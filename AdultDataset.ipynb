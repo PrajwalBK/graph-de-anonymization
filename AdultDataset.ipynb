{
 "cells": [
  {
   "cell_type": "code",
   "execution_count": 1,
   "metadata": {},
   "outputs": [],
   "source": [
    "import pandas as pd\n",
    "from sklearn.preprocessing import LabelEncoder\n",
    "import numpy as np\n",
    "import torch\n",
    "from sklearn.model_selection import KFold, StratifiedKFold\n",
    "import math"
   ]
  },
  {
   "cell_type": "code",
   "execution_count": 26,
   "metadata": {},
   "outputs": [],
   "source": [
    "from sklearn.metrics import accuracy_score, log_loss\n",
    "from sklearn.neighbors import KNeighborsClassifier\n",
    "from sklearn.svm import SVC, LinearSVC, NuSVC\n",
    "from sklearn.tree import DecisionTreeClassifier\n",
    "from sklearn.ensemble import RandomForestClassifier, AdaBoostClassifier, GradientBoostingClassifier\n",
    "from sklearn.naive_bayes import GaussianNB\n",
    "from sklearn.discriminant_analysis import LinearDiscriminantAnalysis\n",
    "from sklearn.discriminant_analysis import QuadraticDiscriminantAnalysis\n",
    "from sklearn.linear_model import LogisticRegression\n",
    "import pandas as pd\n",
    "from utils import ConfusionMatrix, Prf1a\n",
    "classifiers = [\n",
    "#     KNeighborsClassifier(3),\n",
    "    DecisionTreeClassifier(),\n",
    "    RandomForestClassifier(n_jobs=4),\n",
    "    AdaBoostClassifier()\n",
    "]"
   ]
  },
  {
   "cell_type": "code",
   "execution_count": 3,
   "metadata": {},
   "outputs": [],
   "source": [
    "file = 'adult/adult.csv'\n",
    "kf = KFold(n_splits=10, shuffle=True)"
   ]
  },
  {
   "cell_type": "code",
   "execution_count": 4,
   "metadata": {},
   "outputs": [],
   "source": [
    "def run(clf, X_train, Y_train, X_test, Y_tes, num_class):\n",
    "    clf.fit(X_train, y_train)\n",
    "    train_predictions = clf.predict(X_test)\n",
    "    if num_class==2:\n",
    "        sc = Prf1a()\n",
    "    else:\n",
    "        sc = ConfusionMatrix(num_class)\n",
    "    sc.add(torch.FloatTensor(train_predictions), y_test)\n",
    "    train_predictions = clf.predict_proba(X_test)\n",
    "    return sc"
   ]
  },
  {
   "cell_type": "code",
   "execution_count": null,
   "metadata": {},
   "outputs": [],
   "source": []
  },
  {
   "cell_type": "code",
   "execution_count": 5,
   "metadata": {},
   "outputs": [
    {
     "data": {
      "text/plain": [
       "(45222, 15)"
      ]
     },
     "execution_count": 5,
     "metadata": {},
     "output_type": "execute_result"
    }
   ],
   "source": [
    "df = pd.read_csv(file, header=0)\n",
    "df = df.dropna()\n",
    "df.shape"
   ]
  },
  {
   "cell_type": "code",
   "execution_count": 6,
   "metadata": {},
   "outputs": [
    {
     "data": {
      "text/plain": [
       "(array(['<=50K', '>50K'], dtype=object), array([34014, 11208]))"
      ]
     },
     "execution_count": 6,
     "metadata": {},
     "output_type": "execute_result"
    }
   ],
   "source": [
    "np.unique(df['class'], return_counts=True)"
   ]
  },
  {
   "cell_type": "code",
   "execution_count": 7,
   "metadata": {},
   "outputs": [],
   "source": [
    "df['class']=df['class'].map({'<=50K': 0, '>50K': 1}).astype(int)"
   ]
  },
  {
   "cell_type": "code",
   "execution_count": 8,
   "metadata": {},
   "outputs": [
    {
     "name": "stdout",
     "output_type": "stream",
     "text": [
      "age :  5\n",
      "workclass :  7\n",
      "fnlwgt :  26741\n",
      "education :  16\n",
      "education-num :  16\n",
      "marital-status :  7\n",
      "occupation :  14\n",
      "relationship :  6\n",
      "race :  5\n",
      "sex :  2\n",
      "capitalgain :  5\n",
      "capitalloss :  5\n",
      "hoursperweek :  5\n",
      "native-country :  41\n",
      "class :  2\n"
     ]
    }
   ],
   "source": [
    "for c in df.columns:\n",
    "    print(c, ': ', len(df[c].unique()))"
   ]
  },
  {
   "cell_type": "markdown",
   "metadata": {},
   "source": [
    "### Delete redundant and noisy features"
   ]
  },
  {
   "cell_type": "code",
   "execution_count": 9,
   "metadata": {},
   "outputs": [],
   "source": [
    "del df[\"relationship\"]\n",
    "del df['fnlwgt']\n",
    "del df['education-num']"
   ]
  },
  {
   "cell_type": "markdown",
   "metadata": {},
   "source": [
    "### Feature engineering"
   ]
  },
  {
   "cell_type": "code",
   "execution_count": 10,
   "metadata": {},
   "outputs": [
    {
     "name": "stdout",
     "output_type": "stream",
     "text": [
      "Before:  ['State-gov' 'Self-emp-not-inc' 'Private' 'Federal-gov' 'Local-gov'\n",
      " 'Self-emp-inc' 'Without-pay']\n",
      "After:  ['Gov' 'Self-emp' 'Private' 'Without-pay']\n"
     ]
    }
   ],
   "source": [
    "print('Before: ', df.workclass.unique())\n",
    "df.workclass = df.workclass.replace({'Self-emp-not-inc': 'Self-emp',\n",
    "                                    'Self-emp-inc': 'Self-emp',\n",
    "                                    'Local-gov': 'Gov',\n",
    "                                    'Federal-gov': 'Gov',\n",
    "                                    'State-gov': 'Gov'})\n",
    "print('After: ', df.workclass.unique())\n",
    "le = LabelEncoder()\n",
    "df['workclass'] = le.fit_transform(df['workclass'])"
   ]
  },
  {
   "cell_type": "code",
   "execution_count": 11,
   "metadata": {},
   "outputs": [
    {
     "name": "stdout",
     "output_type": "stream",
     "text": [
      "Before:  ['Bachelors' 'HS-grad' '11th' 'Masters' '9th' 'Some-college' 'Assoc-acdm'\n",
      " '7th-8th' 'Doctorate' 'Assoc-voc' 'Prof-school' '5th-6th' '10th'\n",
      " 'Preschool' '12th' '1st-4th']\n",
      "After:  ['Bachelors' 'HS-grad' 'No-school' 'Masters' 'College' 'Doctorate'\n",
      " 'Prof-school']\n"
     ]
    }
   ],
   "source": [
    "print('Before: ', df.education.unique())\n",
    "df.education = df.education.replace({'Preschool': 'No-school',\n",
    "                                        '1st-4th': 'No-school',\n",
    "                                        '5th-6th': 'No-school',\n",
    "                                        '7th-8th': 'No-school',\n",
    "                                        '9th': 'No-school',\n",
    "                                        '10th': 'No-school',\n",
    "                                        '11th': 'No-school',\n",
    "                                        '12th': 'No-school',\n",
    "                                        'Some-college': 'College',\n",
    "                                        'Assoc-voc': 'College',\n",
    "                                        'Assoc-acdm': 'College'})\n",
    "print('After: ', df.education.unique())"
   ]
  },
  {
   "cell_type": "code",
   "execution_count": 12,
   "metadata": {},
   "outputs": [
    {
     "name": "stdout",
     "output_type": "stream",
     "text": [
      "Before:  ['Never-married' 'Married-civ-spouse' 'Divorced' 'Married-spouse-absent'\n",
      " 'Separated' 'Married-AF-spouse' 'Widowed']\n",
      "After:  ['Not-married' 'Married' 'Separated' 'Widowed']\n"
     ]
    }
   ],
   "source": [
    "print('Before: ', df['marital-status'].unique())\n",
    "df['marital-status'].replace(['Married-civ-spouse'], 'Married', inplace=True)\n",
    "df['marital-status'].replace('Never-married', 'Not-married', inplace=True)\n",
    "df['marital-status'].replace(['Divorced'], 'Separated', inplace=True)\n",
    "df['marital-status'].replace(['Separated'], 'Separated', inplace=True)\n",
    "df['marital-status'].replace(['Married-spouse-absent'], 'Not-married', inplace=True)\n",
    "df['marital-status'].replace(['Married-AF-spouse'], 'Married', inplace=True)\n",
    "print('After: ', df['marital-status'].unique())"
   ]
  },
  {
   "cell_type": "code",
   "execution_count": 13,
   "metadata": {},
   "outputs": [
    {
     "name": "stdout",
     "output_type": "stream",
     "text": [
      "Before:  ['United-States' 'Cuba' 'Jamaica' 'India' 'Mexico' 'Puerto-Rico'\n",
      " 'Honduras' 'England' 'Canada' 'Germany' 'Iran' 'Philippines' 'Poland'\n",
      " 'Columbia' 'Cambodia' 'Thailand' 'Ecuador' 'Laos' 'Taiwan' 'Haiti'\n",
      " 'Portugal' 'Dominican-Republic' 'El-Salvador' 'France' 'Guatemala'\n",
      " 'Italy' 'China' 'South' 'Japan' 'Yugoslavia' 'Peru'\n",
      " 'Outlying-US(Guam-USVI-etc)' 'Scotland' 'Trinadad&Tobago' 'Greece'\n",
      " 'Nicaragua' 'Vietnam' 'Hong' 'Ireland' 'Hungary' 'Holand-Netherlands']\n",
      "After:  ['N-America' 'MS-America' 'Asia' 'Europe' 'South']\n"
     ]
    }
   ],
   "source": [
    "print('Before: ', df['native-country'].unique())\n",
    "df['native-country'].replace(['United-States'], 'N-America', inplace=True)\n",
    "df['native-country'].replace(['Mexico'], 'N-America', inplace=True)\n",
    "df['native-country'].replace(['Philippines'], 'Asia', inplace=True)\n",
    "df['native-country'].replace(['Germany'], 'Europe', inplace=True)\n",
    "df['native-country'].replace(['Puerto-Rico'], 'N-America', inplace=True)\n",
    "df['native-country'].replace(['Canada'], 'N-America', inplace=True)\n",
    "df['native-country'].replace(['India'], 'Asia', inplace=True)\n",
    "df['native-country'].replace(['El-Salvador'], 'MS-America', inplace=True)\n",
    "df['native-country'].replace(['Cuba'], 'MS-America', inplace=True)\n",
    "df['native-country'].replace(['England'], 'Europe', inplace=True)\n",
    "df['native-country'].replace(['Jamaica'], 'MS-America', inplace=True)\n",
    "df['native-country'].replace(['Italy'], 'Europe', inplace=True)\n",
    "\n",
    "df['native-country'].replace(['China'], 'Asia', inplace=True)\n",
    "df['native-country'].replace(['Dominican-Republic'], 'MS-America', inplace=True)\n",
    "df['native-country'].replace(['Vietnam'], 'Asia', inplace=True)\n",
    "df['native-country'].replace(['Guatemala'], 'MS-America', inplace=True)\n",
    "df['native-country'].replace(['Japan'], 'Asia', inplace=True)\n",
    "df['native-country'].replace(['Columbia'], 'MS-America', inplace=True)\n",
    "df['native-country'].replace(['Poland'], 'Europe', inplace=True)\n",
    "df['native-country'].replace(['Taiwan'], 'Asia', inplace=True)\n",
    "df['native-country'].replace(['Haiti'], 'MS-America', inplace=True)\n",
    "df['native-country'].replace(['Iran'], 'Asia', inplace=True)\n",
    "df['native-country'].replace(['Portugal'], 'Europe', inplace=True)\n",
    "df['native-country'].replace(['Nicaragua'], 'MS-America', inplace=True)\n",
    "\n",
    "df['native-country'].replace(['Peru'], 'MS-America', inplace=True)\n",
    "df['native-country'].replace(['Greece'], 'Europe', inplace=True)\n",
    "df['native-country'].replace(['Ecuador'], 'MS-America', inplace=True)\n",
    "df['native-country'].replace(['France'], 'Europe', inplace=True)\n",
    "df['native-country'].replace(['Ireland'], 'Europe', inplace=True)\n",
    "df['native-country'].replace(['Hong'], 'Asia', inplace=True)\n",
    "df['native-country'].replace(['Trinadad&Tobago'], 'MS-America', inplace=True)\n",
    "df['native-country'].replace(['Cambodia'], 'Asia', inplace=True)\n",
    "df['native-country'].replace(['Laos'], 'Asia', inplace=True)\n",
    "df['native-country'].replace(['Thailand'], 'Asia', inplace=True)\n",
    "df['native-country'].replace(['Yugoslavia'], 'Europe', inplace=True)\n",
    "df['native-country'].replace(['Outlying-US(Guam-USVI-etc)'], 'N-America', inplace=True)\n",
    "\n",
    "df['native-country'].replace(['Hungary'], 'Europe', inplace=True)\n",
    "df['native-country'].replace(['Honduras'], 'MS-America', inplace=True)\n",
    "df['native-country'].replace(['Scotland'], 'Europe', inplace=True)\n",
    "df['native-country'].replace(['Holand-Netherlands'], 'Europe', inplace=True)\n",
    "print('After: ', df['native-country'].unique())"
   ]
  },
  {
   "cell_type": "code",
   "execution_count": 14,
   "metadata": {},
   "outputs": [],
   "source": [
    "# for c in df.columns:\n",
    "#     print(f'{c}: {df[c].unique()}')\n",
    "#     print(df[c].value_counts())\n",
    "#     print('------------------------------')"
   ]
  },
  {
   "cell_type": "code",
   "execution_count": 15,
   "metadata": {},
   "outputs": [],
   "source": [
    "obj_cols = set(df.select_dtypes(['object']).columns)\n",
    "df_obj = df[obj_cols]\n",
    "df_obj = pd.get_dummies(df_obj)"
   ]
  },
  {
   "cell_type": "code",
   "execution_count": 16,
   "metadata": {},
   "outputs": [],
   "source": [
    "df.drop(obj_cols, axis=1, inplace=True)"
   ]
  },
  {
   "cell_type": "code",
   "execution_count": 17,
   "metadata": {},
   "outputs": [],
   "source": [
    "df = df.join(df_obj)"
   ]
  },
  {
   "cell_type": "code",
   "execution_count": 18,
   "metadata": {},
   "outputs": [],
   "source": [
    "x_col = set(df.columns)-{'workclass', 'class'}\n",
    "df_x = df[x_col]\n",
    "y_class = df['class'].values\n",
    "y_workclass = df['workclass'].values"
   ]
  },
  {
   "cell_type": "markdown",
   "metadata": {},
   "source": [
    "### Remove Label correlation to make prediction of attribute 'class' secure"
   ]
  },
  {
   "cell_type": "code",
   "execution_count": 19,
   "metadata": {},
   "outputs": [
    {
     "name": "stdout",
     "output_type": "stream",
     "text": [
      "34014 11208\n"
     ]
    }
   ],
   "source": [
    "scale = 0\n",
    "c0, c1 = df['class'].value_counts()\n",
    "print(c0, c1)"
   ]
  },
  {
   "cell_type": "code",
   "execution_count": 29,
   "metadata": {},
   "outputs": [],
   "source": [
    "eps = 3\n",
    "sensitivity = 2\n",
    "df_secure = df_x.copy()\n",
    "for i in df_secure.index:\n",
    "    noise = np.random.laplace(scale=sensitivity/eps, size=df_secure.shape[1])\n",
    "    df_secure.loc[i] += noise"
   ]
  },
  {
   "cell_type": "code",
   "execution_count": 30,
   "metadata": {},
   "outputs": [
    {
     "data": {
      "text/html": [
       "<div>\n",
       "<style scoped>\n",
       "    .dataframe tbody tr th:only-of-type {\n",
       "        vertical-align: middle;\n",
       "    }\n",
       "\n",
       "    .dataframe tbody tr th {\n",
       "        vertical-align: top;\n",
       "    }\n",
       "\n",
       "    .dataframe thead th {\n",
       "        text-align: right;\n",
       "    }\n",
       "</style>\n",
       "<table border=\"1\" class=\"dataframe\">\n",
       "  <thead>\n",
       "    <tr style=\"text-align: right;\">\n",
       "      <th></th>\n",
       "      <th>education_Bachelors</th>\n",
       "      <th>marital-status_Married</th>\n",
       "      <th>occupation_Other-service</th>\n",
       "      <th>race_Asian-Pac-Islander</th>\n",
       "      <th>education_Prof-school</th>\n",
       "      <th>occupation_Exec-managerial</th>\n",
       "      <th>native-country_N-America</th>\n",
       "      <th>education_HS-grad</th>\n",
       "      <th>occupation_Priv-house-serv</th>\n",
       "      <th>native-country_South</th>\n",
       "      <th>...</th>\n",
       "      <th>capitalgain</th>\n",
       "      <th>education_Masters</th>\n",
       "      <th>race_Black</th>\n",
       "      <th>occupation_Protective-serv</th>\n",
       "      <th>occupation_Farming-fishing</th>\n",
       "      <th>occupation_Sales</th>\n",
       "      <th>sex_Female</th>\n",
       "      <th>education_College</th>\n",
       "      <th>native-country_Europe</th>\n",
       "      <th>race_Other</th>\n",
       "    </tr>\n",
       "  </thead>\n",
       "  <tbody>\n",
       "    <tr>\n",
       "      <th>0</th>\n",
       "      <td>-0.313635</td>\n",
       "      <td>0.033605</td>\n",
       "      <td>-1.185084</td>\n",
       "      <td>0.529278</td>\n",
       "      <td>0.353263</td>\n",
       "      <td>-0.307092</td>\n",
       "      <td>1.837184</td>\n",
       "      <td>0.156673</td>\n",
       "      <td>0.423879</td>\n",
       "      <td>0.251714</td>\n",
       "      <td>...</td>\n",
       "      <td>1.244420</td>\n",
       "      <td>-0.548422</td>\n",
       "      <td>0.401922</td>\n",
       "      <td>0.802008</td>\n",
       "      <td>-0.048937</td>\n",
       "      <td>-0.293142</td>\n",
       "      <td>0.101156</td>\n",
       "      <td>1.244124</td>\n",
       "      <td>-3.603506</td>\n",
       "      <td>-0.338883</td>\n",
       "    </tr>\n",
       "    <tr>\n",
       "      <th>1</th>\n",
       "      <td>0.774608</td>\n",
       "      <td>1.410656</td>\n",
       "      <td>0.573068</td>\n",
       "      <td>-0.369875</td>\n",
       "      <td>-1.919953</td>\n",
       "      <td>0.485994</td>\n",
       "      <td>1.804345</td>\n",
       "      <td>0.862456</td>\n",
       "      <td>-0.954663</td>\n",
       "      <td>-0.085591</td>\n",
       "      <td>...</td>\n",
       "      <td>-1.874139</td>\n",
       "      <td>-1.488267</td>\n",
       "      <td>-0.034608</td>\n",
       "      <td>-0.355510</td>\n",
       "      <td>0.167512</td>\n",
       "      <td>0.084091</td>\n",
       "      <td>0.131262</td>\n",
       "      <td>3.215408</td>\n",
       "      <td>-0.297249</td>\n",
       "      <td>-0.780975</td>\n",
       "    </tr>\n",
       "    <tr>\n",
       "      <th>2</th>\n",
       "      <td>0.628342</td>\n",
       "      <td>-0.322836</td>\n",
       "      <td>-0.307314</td>\n",
       "      <td>0.117459</td>\n",
       "      <td>-0.496696</td>\n",
       "      <td>0.381473</td>\n",
       "      <td>2.370519</td>\n",
       "      <td>1.903539</td>\n",
       "      <td>-0.715694</td>\n",
       "      <td>-1.544771</td>\n",
       "      <td>...</td>\n",
       "      <td>-0.129965</td>\n",
       "      <td>-0.036158</td>\n",
       "      <td>-0.042146</td>\n",
       "      <td>-0.175023</td>\n",
       "      <td>0.071308</td>\n",
       "      <td>-0.080041</td>\n",
       "      <td>0.042476</td>\n",
       "      <td>-0.044091</td>\n",
       "      <td>0.440796</td>\n",
       "      <td>-0.362564</td>\n",
       "    </tr>\n",
       "    <tr>\n",
       "      <th>3</th>\n",
       "      <td>-0.715146</td>\n",
       "      <td>0.949998</td>\n",
       "      <td>0.588942</td>\n",
       "      <td>-0.016651</td>\n",
       "      <td>1.626161</td>\n",
       "      <td>-0.549686</td>\n",
       "      <td>0.745611</td>\n",
       "      <td>-3.271873</td>\n",
       "      <td>0.259833</td>\n",
       "      <td>-0.686063</td>\n",
       "      <td>...</td>\n",
       "      <td>-0.345936</td>\n",
       "      <td>-0.462371</td>\n",
       "      <td>0.283020</td>\n",
       "      <td>1.365933</td>\n",
       "      <td>-0.950496</td>\n",
       "      <td>0.559075</td>\n",
       "      <td>-0.711752</td>\n",
       "      <td>0.105266</td>\n",
       "      <td>0.026384</td>\n",
       "      <td>-0.578541</td>\n",
       "    </tr>\n",
       "    <tr>\n",
       "      <th>4</th>\n",
       "      <td>-0.307209</td>\n",
       "      <td>3.877557</td>\n",
       "      <td>-3.472104</td>\n",
       "      <td>-0.020315</td>\n",
       "      <td>0.180138</td>\n",
       "      <td>1.295997</td>\n",
       "      <td>1.657874</td>\n",
       "      <td>1.691695</td>\n",
       "      <td>0.203747</td>\n",
       "      <td>2.524074</td>\n",
       "      <td>...</td>\n",
       "      <td>-0.560958</td>\n",
       "      <td>3.161730</td>\n",
       "      <td>3.123375</td>\n",
       "      <td>-0.299960</td>\n",
       "      <td>-0.072651</td>\n",
       "      <td>-1.502264</td>\n",
       "      <td>2.032647</td>\n",
       "      <td>1.511763</td>\n",
       "      <td>0.212223</td>\n",
       "      <td>1.908018</td>\n",
       "    </tr>\n",
       "    <tr>\n",
       "      <th>...</th>\n",
       "      <td>...</td>\n",
       "      <td>...</td>\n",
       "      <td>...</td>\n",
       "      <td>...</td>\n",
       "      <td>...</td>\n",
       "      <td>...</td>\n",
       "      <td>...</td>\n",
       "      <td>...</td>\n",
       "      <td>...</td>\n",
       "      <td>...</td>\n",
       "      <td>...</td>\n",
       "      <td>...</td>\n",
       "      <td>...</td>\n",
       "      <td>...</td>\n",
       "      <td>...</td>\n",
       "      <td>...</td>\n",
       "      <td>...</td>\n",
       "      <td>...</td>\n",
       "      <td>...</td>\n",
       "      <td>...</td>\n",
       "      <td>...</td>\n",
       "    </tr>\n",
       "    <tr>\n",
       "      <th>48836</th>\n",
       "      <td>1.895856</td>\n",
       "      <td>0.927891</td>\n",
       "      <td>1.272068</td>\n",
       "      <td>-1.595894</td>\n",
       "      <td>-0.426692</td>\n",
       "      <td>0.112955</td>\n",
       "      <td>1.963607</td>\n",
       "      <td>1.369937</td>\n",
       "      <td>-0.799789</td>\n",
       "      <td>-1.526794</td>\n",
       "      <td>...</td>\n",
       "      <td>0.008449</td>\n",
       "      <td>-2.665657</td>\n",
       "      <td>0.504831</td>\n",
       "      <td>0.901191</td>\n",
       "      <td>2.005519</td>\n",
       "      <td>0.403613</td>\n",
       "      <td>-0.123149</td>\n",
       "      <td>0.063848</td>\n",
       "      <td>1.291549</td>\n",
       "      <td>1.853975</td>\n",
       "    </tr>\n",
       "    <tr>\n",
       "      <th>48837</th>\n",
       "      <td>1.308966</td>\n",
       "      <td>1.232278</td>\n",
       "      <td>0.395574</td>\n",
       "      <td>0.151498</td>\n",
       "      <td>0.855282</td>\n",
       "      <td>0.104499</td>\n",
       "      <td>1.269222</td>\n",
       "      <td>-0.024361</td>\n",
       "      <td>0.090931</td>\n",
       "      <td>0.732963</td>\n",
       "      <td>...</td>\n",
       "      <td>-0.234699</td>\n",
       "      <td>0.388488</td>\n",
       "      <td>-0.858319</td>\n",
       "      <td>0.445266</td>\n",
       "      <td>-1.127949</td>\n",
       "      <td>-0.800309</td>\n",
       "      <td>0.900829</td>\n",
       "      <td>-0.581643</td>\n",
       "      <td>0.066518</td>\n",
       "      <td>1.030327</td>\n",
       "    </tr>\n",
       "    <tr>\n",
       "      <th>48839</th>\n",
       "      <td>0.774205</td>\n",
       "      <td>1.104395</td>\n",
       "      <td>-0.396411</td>\n",
       "      <td>0.273290</td>\n",
       "      <td>-0.305528</td>\n",
       "      <td>0.695799</td>\n",
       "      <td>2.042440</td>\n",
       "      <td>-0.159683</td>\n",
       "      <td>-0.994668</td>\n",
       "      <td>0.771261</td>\n",
       "      <td>...</td>\n",
       "      <td>0.465283</td>\n",
       "      <td>0.169340</td>\n",
       "      <td>-0.897602</td>\n",
       "      <td>0.251667</td>\n",
       "      <td>1.847485</td>\n",
       "      <td>-0.825958</td>\n",
       "      <td>1.072405</td>\n",
       "      <td>1.981724</td>\n",
       "      <td>-1.296962</td>\n",
       "      <td>0.090104</td>\n",
       "    </tr>\n",
       "    <tr>\n",
       "      <th>48840</th>\n",
       "      <td>1.261847</td>\n",
       "      <td>0.057213</td>\n",
       "      <td>-0.450108</td>\n",
       "      <td>-0.316920</td>\n",
       "      <td>1.189147</td>\n",
       "      <td>0.874049</td>\n",
       "      <td>1.250558</td>\n",
       "      <td>-0.491732</td>\n",
       "      <td>1.038334</td>\n",
       "      <td>-0.049434</td>\n",
       "      <td>...</td>\n",
       "      <td>0.632075</td>\n",
       "      <td>-1.707709</td>\n",
       "      <td>0.433547</td>\n",
       "      <td>0.657922</td>\n",
       "      <td>0.293270</td>\n",
       "      <td>-2.148834</td>\n",
       "      <td>-0.935533</td>\n",
       "      <td>1.676973</td>\n",
       "      <td>0.524318</td>\n",
       "      <td>0.166844</td>\n",
       "    </tr>\n",
       "    <tr>\n",
       "      <th>48841</th>\n",
       "      <td>0.762591</td>\n",
       "      <td>1.107247</td>\n",
       "      <td>0.991097</td>\n",
       "      <td>-0.354721</td>\n",
       "      <td>-1.080217</td>\n",
       "      <td>0.812480</td>\n",
       "      <td>1.762851</td>\n",
       "      <td>-0.492364</td>\n",
       "      <td>0.642992</td>\n",
       "      <td>-1.595420</td>\n",
       "      <td>...</td>\n",
       "      <td>0.221885</td>\n",
       "      <td>0.153137</td>\n",
       "      <td>-0.277697</td>\n",
       "      <td>-1.402727</td>\n",
       "      <td>0.479757</td>\n",
       "      <td>0.417435</td>\n",
       "      <td>0.843418</td>\n",
       "      <td>1.064573</td>\n",
       "      <td>-0.186797</td>\n",
       "      <td>0.304780</td>\n",
       "    </tr>\n",
       "  </tbody>\n",
       "</table>\n",
       "<p>45222 rows × 41 columns</p>\n",
       "</div>"
      ],
      "text/plain": [
       "       education_Bachelors  marital-status_Married  occupation_Other-service  \\\n",
       "0                -0.313635                0.033605                 -1.185084   \n",
       "1                 0.774608                1.410656                  0.573068   \n",
       "2                 0.628342               -0.322836                 -0.307314   \n",
       "3                -0.715146                0.949998                  0.588942   \n",
       "4                -0.307209                3.877557                 -3.472104   \n",
       "...                    ...                     ...                       ...   \n",
       "48836             1.895856                0.927891                  1.272068   \n",
       "48837             1.308966                1.232278                  0.395574   \n",
       "48839             0.774205                1.104395                 -0.396411   \n",
       "48840             1.261847                0.057213                 -0.450108   \n",
       "48841             0.762591                1.107247                  0.991097   \n",
       "\n",
       "       race_Asian-Pac-Islander  education_Prof-school  \\\n",
       "0                     0.529278               0.353263   \n",
       "1                    -0.369875              -1.919953   \n",
       "2                     0.117459              -0.496696   \n",
       "3                    -0.016651               1.626161   \n",
       "4                    -0.020315               0.180138   \n",
       "...                        ...                    ...   \n",
       "48836                -1.595894              -0.426692   \n",
       "48837                 0.151498               0.855282   \n",
       "48839                 0.273290              -0.305528   \n",
       "48840                -0.316920               1.189147   \n",
       "48841                -0.354721              -1.080217   \n",
       "\n",
       "       occupation_Exec-managerial  native-country_N-America  \\\n",
       "0                       -0.307092                  1.837184   \n",
       "1                        0.485994                  1.804345   \n",
       "2                        0.381473                  2.370519   \n",
       "3                       -0.549686                  0.745611   \n",
       "4                        1.295997                  1.657874   \n",
       "...                           ...                       ...   \n",
       "48836                    0.112955                  1.963607   \n",
       "48837                    0.104499                  1.269222   \n",
       "48839                    0.695799                  2.042440   \n",
       "48840                    0.874049                  1.250558   \n",
       "48841                    0.812480                  1.762851   \n",
       "\n",
       "       education_HS-grad  occupation_Priv-house-serv  native-country_South  \\\n",
       "0               0.156673                    0.423879              0.251714   \n",
       "1               0.862456                   -0.954663             -0.085591   \n",
       "2               1.903539                   -0.715694             -1.544771   \n",
       "3              -3.271873                    0.259833             -0.686063   \n",
       "4               1.691695                    0.203747              2.524074   \n",
       "...                  ...                         ...                   ...   \n",
       "48836           1.369937                   -0.799789             -1.526794   \n",
       "48837          -0.024361                    0.090931              0.732963   \n",
       "48839          -0.159683                   -0.994668              0.771261   \n",
       "48840          -0.491732                    1.038334             -0.049434   \n",
       "48841          -0.492364                    0.642992             -1.595420   \n",
       "\n",
       "       ...  capitalgain  education_Masters  race_Black  \\\n",
       "0      ...     1.244420          -0.548422    0.401922   \n",
       "1      ...    -1.874139          -1.488267   -0.034608   \n",
       "2      ...    -0.129965          -0.036158   -0.042146   \n",
       "3      ...    -0.345936          -0.462371    0.283020   \n",
       "4      ...    -0.560958           3.161730    3.123375   \n",
       "...    ...          ...                ...         ...   \n",
       "48836  ...     0.008449          -2.665657    0.504831   \n",
       "48837  ...    -0.234699           0.388488   -0.858319   \n",
       "48839  ...     0.465283           0.169340   -0.897602   \n",
       "48840  ...     0.632075          -1.707709    0.433547   \n",
       "48841  ...     0.221885           0.153137   -0.277697   \n",
       "\n",
       "       occupation_Protective-serv  occupation_Farming-fishing  \\\n",
       "0                        0.802008                   -0.048937   \n",
       "1                       -0.355510                    0.167512   \n",
       "2                       -0.175023                    0.071308   \n",
       "3                        1.365933                   -0.950496   \n",
       "4                       -0.299960                   -0.072651   \n",
       "...                           ...                         ...   \n",
       "48836                    0.901191                    2.005519   \n",
       "48837                    0.445266                   -1.127949   \n",
       "48839                    0.251667                    1.847485   \n",
       "48840                    0.657922                    0.293270   \n",
       "48841                   -1.402727                    0.479757   \n",
       "\n",
       "       occupation_Sales  sex_Female  education_College  native-country_Europe  \\\n",
       "0             -0.293142    0.101156           1.244124              -3.603506   \n",
       "1              0.084091    0.131262           3.215408              -0.297249   \n",
       "2             -0.080041    0.042476          -0.044091               0.440796   \n",
       "3              0.559075   -0.711752           0.105266               0.026384   \n",
       "4             -1.502264    2.032647           1.511763               0.212223   \n",
       "...                 ...         ...                ...                    ...   \n",
       "48836          0.403613   -0.123149           0.063848               1.291549   \n",
       "48837         -0.800309    0.900829          -0.581643               0.066518   \n",
       "48839         -0.825958    1.072405           1.981724              -1.296962   \n",
       "48840         -2.148834   -0.935533           1.676973               0.524318   \n",
       "48841          0.417435    0.843418           1.064573              -0.186797   \n",
       "\n",
       "       race_Other  \n",
       "0       -0.338883  \n",
       "1       -0.780975  \n",
       "2       -0.362564  \n",
       "3       -0.578541  \n",
       "4        1.908018  \n",
       "...           ...  \n",
       "48836    1.853975  \n",
       "48837    1.030327  \n",
       "48839    0.090104  \n",
       "48840    0.166844  \n",
       "48841    0.304780  \n",
       "\n",
       "[45222 rows x 41 columns]"
      ]
     },
     "execution_count": 30,
     "metadata": {},
     "output_type": "execute_result"
    }
   ],
   "source": [
    "df_secure"
   ]
  },
  {
   "cell_type": "markdown",
   "metadata": {},
   "source": [
    "# Classification"
   ]
  },
  {
   "cell_type": "code",
   "execution_count": 31,
   "metadata": {},
   "outputs": [
    {
     "name": "stdout",
     "output_type": "stream",
     "text": [
      "DecisionTreeClassifier [0.4022, 0.4174, 0.4097, 0.7018]\n"
     ]
    },
    {
     "ename": "KeyboardInterrupt",
     "evalue": "",
     "output_type": "error",
     "traceback": [
      "\u001b[0;31m---------------------------------------------------------------------------\u001b[0m",
      "\u001b[0;31mKeyboardInterrupt\u001b[0m                         Traceback (most recent call last)",
      "\u001b[0;32m<ipython-input-31-bb81aaaf54ba>\u001b[0m in \u001b[0;36m<module>\u001b[0;34m\u001b[0m\n\u001b[1;32m     11\u001b[0m         \u001b[0mx_train\u001b[0m\u001b[0;34m,\u001b[0m \u001b[0my_train\u001b[0m \u001b[0;34m=\u001b[0m \u001b[0mX\u001b[0m\u001b[0;34m[\u001b[0m\u001b[0msp\u001b[0m\u001b[0;34m[\u001b[0m\u001b[0;36m0\u001b[0m\u001b[0;34m]\u001b[0m\u001b[0;34m]\u001b[0m\u001b[0;34m,\u001b[0m \u001b[0mY\u001b[0m\u001b[0;34m[\u001b[0m\u001b[0msp\u001b[0m\u001b[0;34m[\u001b[0m\u001b[0;36m0\u001b[0m\u001b[0;34m]\u001b[0m\u001b[0;34m]\u001b[0m\u001b[0;34m\u001b[0m\u001b[0;34m\u001b[0m\u001b[0m\n\u001b[1;32m     12\u001b[0m         \u001b[0mx_test\u001b[0m\u001b[0;34m,\u001b[0m \u001b[0my_test\u001b[0m \u001b[0;34m=\u001b[0m \u001b[0mX\u001b[0m\u001b[0;34m[\u001b[0m\u001b[0msp\u001b[0m\u001b[0;34m[\u001b[0m\u001b[0;36m1\u001b[0m\u001b[0;34m]\u001b[0m\u001b[0;34m]\u001b[0m\u001b[0;34m,\u001b[0m \u001b[0mY\u001b[0m\u001b[0;34m[\u001b[0m\u001b[0msp\u001b[0m\u001b[0;34m[\u001b[0m\u001b[0;36m1\u001b[0m\u001b[0;34m]\u001b[0m\u001b[0;34m]\u001b[0m\u001b[0;34m\u001b[0m\u001b[0;34m\u001b[0m\u001b[0m\n\u001b[0;32m---> 13\u001b[0;31m         \u001b[0m_sc\u001b[0m \u001b[0;34m=\u001b[0m \u001b[0mrun\u001b[0m\u001b[0;34m(\u001b[0m\u001b[0mclf\u001b[0m\u001b[0;34m,\u001b[0m \u001b[0mx_train\u001b[0m\u001b[0;34m,\u001b[0m \u001b[0my_train\u001b[0m\u001b[0;34m,\u001b[0m \u001b[0mx_test\u001b[0m\u001b[0;34m,\u001b[0m \u001b[0my_test\u001b[0m\u001b[0;34m,\u001b[0m \u001b[0mnum_class\u001b[0m\u001b[0;34m)\u001b[0m\u001b[0;34m\u001b[0m\u001b[0;34m\u001b[0m\u001b[0m\n\u001b[0m\u001b[1;32m     14\u001b[0m         \u001b[0msc\u001b[0m\u001b[0;34m.\u001b[0m\u001b[0maccumulate\u001b[0m\u001b[0;34m(\u001b[0m\u001b[0m_sc\u001b[0m\u001b[0;34m)\u001b[0m\u001b[0;34m\u001b[0m\u001b[0;34m\u001b[0m\u001b[0m\n\u001b[1;32m     15\u001b[0m     \u001b[0mprint\u001b[0m\u001b[0;34m(\u001b[0m\u001b[0mname\u001b[0m\u001b[0;34m,\u001b[0m \u001b[0;34m[\u001b[0m\u001b[0mround\u001b[0m\u001b[0;34m(\u001b[0m\u001b[0mi\u001b[0m\u001b[0;34m,\u001b[0m \u001b[0;36m4\u001b[0m\u001b[0;34m)\u001b[0m \u001b[0;32mfor\u001b[0m \u001b[0mi\u001b[0m \u001b[0;32min\u001b[0m \u001b[0msc\u001b[0m\u001b[0;34m.\u001b[0m\u001b[0mprfa\u001b[0m\u001b[0;34m(\u001b[0m\u001b[0;34m)\u001b[0m\u001b[0;34m]\u001b[0m\u001b[0;34m)\u001b[0m\u001b[0;34m\u001b[0m\u001b[0;34m\u001b[0m\u001b[0m\n",
      "\u001b[0;32m<ipython-input-4-81d0299396bb>\u001b[0m in \u001b[0;36mrun\u001b[0;34m(clf, X_train, Y_train, X_test, Y_tes, num_class)\u001b[0m\n\u001b[1;32m      1\u001b[0m \u001b[0;32mdef\u001b[0m \u001b[0mrun\u001b[0m\u001b[0;34m(\u001b[0m\u001b[0mclf\u001b[0m\u001b[0;34m,\u001b[0m \u001b[0mX_train\u001b[0m\u001b[0;34m,\u001b[0m \u001b[0mY_train\u001b[0m\u001b[0;34m,\u001b[0m \u001b[0mX_test\u001b[0m\u001b[0;34m,\u001b[0m \u001b[0mY_tes\u001b[0m\u001b[0;34m,\u001b[0m \u001b[0mnum_class\u001b[0m\u001b[0;34m)\u001b[0m\u001b[0;34m:\u001b[0m\u001b[0;34m\u001b[0m\u001b[0;34m\u001b[0m\u001b[0m\n\u001b[0;32m----> 2\u001b[0;31m     \u001b[0mclf\u001b[0m\u001b[0;34m.\u001b[0m\u001b[0mfit\u001b[0m\u001b[0;34m(\u001b[0m\u001b[0mX_train\u001b[0m\u001b[0;34m,\u001b[0m \u001b[0my_train\u001b[0m\u001b[0;34m)\u001b[0m\u001b[0;34m\u001b[0m\u001b[0;34m\u001b[0m\u001b[0m\n\u001b[0m\u001b[1;32m      3\u001b[0m     \u001b[0mtrain_predictions\u001b[0m \u001b[0;34m=\u001b[0m \u001b[0mclf\u001b[0m\u001b[0;34m.\u001b[0m\u001b[0mpredict\u001b[0m\u001b[0;34m(\u001b[0m\u001b[0mX_test\u001b[0m\u001b[0;34m)\u001b[0m\u001b[0;34m\u001b[0m\u001b[0;34m\u001b[0m\u001b[0m\n\u001b[1;32m      4\u001b[0m     \u001b[0;32mif\u001b[0m \u001b[0mnum_class\u001b[0m\u001b[0;34m==\u001b[0m\u001b[0;36m2\u001b[0m\u001b[0;34m:\u001b[0m\u001b[0;34m\u001b[0m\u001b[0;34m\u001b[0m\u001b[0m\n\u001b[1;32m      5\u001b[0m         \u001b[0msc\u001b[0m \u001b[0;34m=\u001b[0m \u001b[0mPrf1a\u001b[0m\u001b[0;34m(\u001b[0m\u001b[0;34m)\u001b[0m\u001b[0;34m\u001b[0m\u001b[0;34m\u001b[0m\u001b[0m\n",
      "\u001b[0;32m~/.local/lib/python3.8/site-packages/sklearn/ensemble/_forest.py\u001b[0m in \u001b[0;36mfit\u001b[0;34m(self, X, y, sample_weight)\u001b[0m\n\u001b[1;32m    384\u001b[0m             \u001b[0;31m# parallel_backend contexts set at a higher level,\u001b[0m\u001b[0;34m\u001b[0m\u001b[0;34m\u001b[0m\u001b[0;34m\u001b[0m\u001b[0m\n\u001b[1;32m    385\u001b[0m             \u001b[0;31m# since correctness does not rely on using threads.\u001b[0m\u001b[0;34m\u001b[0m\u001b[0;34m\u001b[0m\u001b[0;34m\u001b[0m\u001b[0m\n\u001b[0;32m--> 386\u001b[0;31m             trees = Parallel(n_jobs=self.n_jobs, verbose=self.verbose,\n\u001b[0m\u001b[1;32m    387\u001b[0m                              \u001b[0;34m**\u001b[0m\u001b[0m_joblib_parallel_args\u001b[0m\u001b[0;34m(\u001b[0m\u001b[0mprefer\u001b[0m\u001b[0;34m=\u001b[0m\u001b[0;34m'threads'\u001b[0m\u001b[0;34m)\u001b[0m\u001b[0;34m)\u001b[0m\u001b[0;34m(\u001b[0m\u001b[0;34m\u001b[0m\u001b[0;34m\u001b[0m\u001b[0m\n\u001b[1;32m    388\u001b[0m                 delayed(_parallel_build_trees)(\n",
      "\u001b[0;32m~/.local/lib/python3.8/site-packages/joblib/parallel.py\u001b[0m in \u001b[0;36m__call__\u001b[0;34m(self, iterable)\u001b[0m\n\u001b[1;32m   1040\u001b[0m \u001b[0;34m\u001b[0m\u001b[0m\n\u001b[1;32m   1041\u001b[0m             \u001b[0;32mwith\u001b[0m \u001b[0mself\u001b[0m\u001b[0;34m.\u001b[0m\u001b[0m_backend\u001b[0m\u001b[0;34m.\u001b[0m\u001b[0mretrieval_context\u001b[0m\u001b[0;34m(\u001b[0m\u001b[0;34m)\u001b[0m\u001b[0;34m:\u001b[0m\u001b[0;34m\u001b[0m\u001b[0;34m\u001b[0m\u001b[0m\n\u001b[0;32m-> 1042\u001b[0;31m                 \u001b[0mself\u001b[0m\u001b[0;34m.\u001b[0m\u001b[0mretrieve\u001b[0m\u001b[0;34m(\u001b[0m\u001b[0;34m)\u001b[0m\u001b[0;34m\u001b[0m\u001b[0;34m\u001b[0m\u001b[0m\n\u001b[0m\u001b[1;32m   1043\u001b[0m             \u001b[0;31m# Make sure that we get a last message telling us we are done\u001b[0m\u001b[0;34m\u001b[0m\u001b[0;34m\u001b[0m\u001b[0;34m\u001b[0m\u001b[0m\n\u001b[1;32m   1044\u001b[0m             \u001b[0melapsed_time\u001b[0m \u001b[0;34m=\u001b[0m \u001b[0mtime\u001b[0m\u001b[0;34m.\u001b[0m\u001b[0mtime\u001b[0m\u001b[0;34m(\u001b[0m\u001b[0;34m)\u001b[0m \u001b[0;34m-\u001b[0m \u001b[0mself\u001b[0m\u001b[0;34m.\u001b[0m\u001b[0m_start_time\u001b[0m\u001b[0;34m\u001b[0m\u001b[0;34m\u001b[0m\u001b[0m\n",
      "\u001b[0;32m~/.local/lib/python3.8/site-packages/joblib/parallel.py\u001b[0m in \u001b[0;36mretrieve\u001b[0;34m(self)\u001b[0m\n\u001b[1;32m    919\u001b[0m             \u001b[0;32mtry\u001b[0m\u001b[0;34m:\u001b[0m\u001b[0;34m\u001b[0m\u001b[0;34m\u001b[0m\u001b[0m\n\u001b[1;32m    920\u001b[0m                 \u001b[0;32mif\u001b[0m \u001b[0mgetattr\u001b[0m\u001b[0;34m(\u001b[0m\u001b[0mself\u001b[0m\u001b[0;34m.\u001b[0m\u001b[0m_backend\u001b[0m\u001b[0;34m,\u001b[0m \u001b[0;34m'supports_timeout'\u001b[0m\u001b[0;34m,\u001b[0m \u001b[0;32mFalse\u001b[0m\u001b[0;34m)\u001b[0m\u001b[0;34m:\u001b[0m\u001b[0;34m\u001b[0m\u001b[0;34m\u001b[0m\u001b[0m\n\u001b[0;32m--> 921\u001b[0;31m                     \u001b[0mself\u001b[0m\u001b[0;34m.\u001b[0m\u001b[0m_output\u001b[0m\u001b[0;34m.\u001b[0m\u001b[0mextend\u001b[0m\u001b[0;34m(\u001b[0m\u001b[0mjob\u001b[0m\u001b[0;34m.\u001b[0m\u001b[0mget\u001b[0m\u001b[0;34m(\u001b[0m\u001b[0mtimeout\u001b[0m\u001b[0;34m=\u001b[0m\u001b[0mself\u001b[0m\u001b[0;34m.\u001b[0m\u001b[0mtimeout\u001b[0m\u001b[0;34m)\u001b[0m\u001b[0;34m)\u001b[0m\u001b[0;34m\u001b[0m\u001b[0;34m\u001b[0m\u001b[0m\n\u001b[0m\u001b[1;32m    922\u001b[0m                 \u001b[0;32melse\u001b[0m\u001b[0;34m:\u001b[0m\u001b[0;34m\u001b[0m\u001b[0;34m\u001b[0m\u001b[0m\n\u001b[1;32m    923\u001b[0m                     \u001b[0mself\u001b[0m\u001b[0;34m.\u001b[0m\u001b[0m_output\u001b[0m\u001b[0;34m.\u001b[0m\u001b[0mextend\u001b[0m\u001b[0;34m(\u001b[0m\u001b[0mjob\u001b[0m\u001b[0;34m.\u001b[0m\u001b[0mget\u001b[0m\u001b[0;34m(\u001b[0m\u001b[0;34m)\u001b[0m\u001b[0;34m)\u001b[0m\u001b[0;34m\u001b[0m\u001b[0;34m\u001b[0m\u001b[0m\n",
      "\u001b[0;32m/usr/lib/python3.8/multiprocessing/pool.py\u001b[0m in \u001b[0;36mget\u001b[0;34m(self, timeout)\u001b[0m\n\u001b[1;32m    763\u001b[0m \u001b[0;34m\u001b[0m\u001b[0m\n\u001b[1;32m    764\u001b[0m     \u001b[0;32mdef\u001b[0m \u001b[0mget\u001b[0m\u001b[0;34m(\u001b[0m\u001b[0mself\u001b[0m\u001b[0;34m,\u001b[0m \u001b[0mtimeout\u001b[0m\u001b[0;34m=\u001b[0m\u001b[0;32mNone\u001b[0m\u001b[0;34m)\u001b[0m\u001b[0;34m:\u001b[0m\u001b[0;34m\u001b[0m\u001b[0;34m\u001b[0m\u001b[0m\n\u001b[0;32m--> 765\u001b[0;31m         \u001b[0mself\u001b[0m\u001b[0;34m.\u001b[0m\u001b[0mwait\u001b[0m\u001b[0;34m(\u001b[0m\u001b[0mtimeout\u001b[0m\u001b[0;34m)\u001b[0m\u001b[0;34m\u001b[0m\u001b[0;34m\u001b[0m\u001b[0m\n\u001b[0m\u001b[1;32m    766\u001b[0m         \u001b[0;32mif\u001b[0m \u001b[0;32mnot\u001b[0m \u001b[0mself\u001b[0m\u001b[0;34m.\u001b[0m\u001b[0mready\u001b[0m\u001b[0;34m(\u001b[0m\u001b[0;34m)\u001b[0m\u001b[0;34m:\u001b[0m\u001b[0;34m\u001b[0m\u001b[0;34m\u001b[0m\u001b[0m\n\u001b[1;32m    767\u001b[0m             \u001b[0;32mraise\u001b[0m \u001b[0mTimeoutError\u001b[0m\u001b[0;34m\u001b[0m\u001b[0;34m\u001b[0m\u001b[0m\n",
      "\u001b[0;32m/usr/lib/python3.8/multiprocessing/pool.py\u001b[0m in \u001b[0;36mwait\u001b[0;34m(self, timeout)\u001b[0m\n\u001b[1;32m    760\u001b[0m \u001b[0;34m\u001b[0m\u001b[0m\n\u001b[1;32m    761\u001b[0m     \u001b[0;32mdef\u001b[0m \u001b[0mwait\u001b[0m\u001b[0;34m(\u001b[0m\u001b[0mself\u001b[0m\u001b[0;34m,\u001b[0m \u001b[0mtimeout\u001b[0m\u001b[0;34m=\u001b[0m\u001b[0;32mNone\u001b[0m\u001b[0;34m)\u001b[0m\u001b[0;34m:\u001b[0m\u001b[0;34m\u001b[0m\u001b[0;34m\u001b[0m\u001b[0m\n\u001b[0;32m--> 762\u001b[0;31m         \u001b[0mself\u001b[0m\u001b[0;34m.\u001b[0m\u001b[0m_event\u001b[0m\u001b[0;34m.\u001b[0m\u001b[0mwait\u001b[0m\u001b[0;34m(\u001b[0m\u001b[0mtimeout\u001b[0m\u001b[0;34m)\u001b[0m\u001b[0;34m\u001b[0m\u001b[0;34m\u001b[0m\u001b[0m\n\u001b[0m\u001b[1;32m    763\u001b[0m \u001b[0;34m\u001b[0m\u001b[0m\n\u001b[1;32m    764\u001b[0m     \u001b[0;32mdef\u001b[0m \u001b[0mget\u001b[0m\u001b[0;34m(\u001b[0m\u001b[0mself\u001b[0m\u001b[0;34m,\u001b[0m \u001b[0mtimeout\u001b[0m\u001b[0;34m=\u001b[0m\u001b[0;32mNone\u001b[0m\u001b[0;34m)\u001b[0m\u001b[0;34m:\u001b[0m\u001b[0;34m\u001b[0m\u001b[0;34m\u001b[0m\u001b[0m\n",
      "\u001b[0;32m/usr/lib/python3.8/threading.py\u001b[0m in \u001b[0;36mwait\u001b[0;34m(self, timeout)\u001b[0m\n\u001b[1;32m    556\u001b[0m             \u001b[0msignaled\u001b[0m \u001b[0;34m=\u001b[0m \u001b[0mself\u001b[0m\u001b[0;34m.\u001b[0m\u001b[0m_flag\u001b[0m\u001b[0;34m\u001b[0m\u001b[0;34m\u001b[0m\u001b[0m\n\u001b[1;32m    557\u001b[0m             \u001b[0;32mif\u001b[0m \u001b[0;32mnot\u001b[0m \u001b[0msignaled\u001b[0m\u001b[0;34m:\u001b[0m\u001b[0;34m\u001b[0m\u001b[0;34m\u001b[0m\u001b[0m\n\u001b[0;32m--> 558\u001b[0;31m                 \u001b[0msignaled\u001b[0m \u001b[0;34m=\u001b[0m \u001b[0mself\u001b[0m\u001b[0;34m.\u001b[0m\u001b[0m_cond\u001b[0m\u001b[0;34m.\u001b[0m\u001b[0mwait\u001b[0m\u001b[0;34m(\u001b[0m\u001b[0mtimeout\u001b[0m\u001b[0;34m)\u001b[0m\u001b[0;34m\u001b[0m\u001b[0;34m\u001b[0m\u001b[0m\n\u001b[0m\u001b[1;32m    559\u001b[0m             \u001b[0;32mreturn\u001b[0m \u001b[0msignaled\u001b[0m\u001b[0;34m\u001b[0m\u001b[0;34m\u001b[0m\u001b[0m\n\u001b[1;32m    560\u001b[0m \u001b[0;34m\u001b[0m\u001b[0m\n",
      "\u001b[0;32m/usr/lib/python3.8/threading.py\u001b[0m in \u001b[0;36mwait\u001b[0;34m(self, timeout)\u001b[0m\n\u001b[1;32m    300\u001b[0m         \u001b[0;32mtry\u001b[0m\u001b[0;34m:\u001b[0m    \u001b[0;31m# restore state no matter what (e.g., KeyboardInterrupt)\u001b[0m\u001b[0;34m\u001b[0m\u001b[0;34m\u001b[0m\u001b[0m\n\u001b[1;32m    301\u001b[0m             \u001b[0;32mif\u001b[0m \u001b[0mtimeout\u001b[0m \u001b[0;32mis\u001b[0m \u001b[0;32mNone\u001b[0m\u001b[0;34m:\u001b[0m\u001b[0;34m\u001b[0m\u001b[0;34m\u001b[0m\u001b[0m\n\u001b[0;32m--> 302\u001b[0;31m                 \u001b[0mwaiter\u001b[0m\u001b[0;34m.\u001b[0m\u001b[0macquire\u001b[0m\u001b[0;34m(\u001b[0m\u001b[0;34m)\u001b[0m\u001b[0;34m\u001b[0m\u001b[0;34m\u001b[0m\u001b[0m\n\u001b[0m\u001b[1;32m    303\u001b[0m                 \u001b[0mgotit\u001b[0m \u001b[0;34m=\u001b[0m \u001b[0;32mTrue\u001b[0m\u001b[0;34m\u001b[0m\u001b[0;34m\u001b[0m\u001b[0m\n\u001b[1;32m    304\u001b[0m             \u001b[0;32melse\u001b[0m\u001b[0;34m:\u001b[0m\u001b[0;34m\u001b[0m\u001b[0;34m\u001b[0m\u001b[0m\n",
      "\u001b[0;31mKeyboardInterrupt\u001b[0m: "
     ]
    }
   ],
   "source": [
    "num_class = 2\n",
    "X = torch.Tensor(df_secure.values)\n",
    "Y = torch.Tensor(y_class if num_class==2 else y_workclass)\n",
    "for clf in classifiers:\n",
    "    if num_class==2:\n",
    "        sc = Prf1a()\n",
    "    else:\n",
    "         sc = ConfusionMatrix(num_class)\n",
    "    name = clf.__class__.__name__\n",
    "    for sp in kf.split(X):\n",
    "        x_train, y_train = X[sp[0]], Y[sp[0]]\n",
    "        x_test, y_test = X[sp[1]], Y[sp[1]]\n",
    "        _sc = run(clf, x_train, y_train, x_test, y_test, num_class)\n",
    "        sc.accumulate(_sc)\n",
    "    print(name, [round(i, 4) for i in sc.prfa()])"
   ]
  },
  {
   "cell_type": "code",
   "execution_count": null,
   "metadata": {},
   "outputs": [],
   "source": []
  },
  {
   "cell_type": "markdown",
   "metadata": {},
   "source": [
    "### Base scores on classifying attribute 'class'\n",
    "- KNeighborsClassifier [0.6565, 0.5988, 0.6263, 0.8229]\n",
    "- DecisionTreeClassifier [0.6994, 0.588, 0.6389, 0.8352]\n",
    "- RandomForestClassifier [0.7061, 0.6085, 0.6537, 0.8402]\n",
    "- AdaBoostClassifier [0.7399, 0.6057, 0.6661, 0.8495]"
   ]
  },
  {
   "cell_type": "markdown",
   "metadata": {},
   "source": [
    "### Base scores on classifying attribute 'workclass'\n",
    "- KNeighborsClassifier [0.2038, 0.2221, 0.2125, 0.704]\n",
    "- DecisionTreeClassifier [0.2041, 0.2358, 0.2188, 0.7242]\n",
    "- RandomForestClassifier [0.2041, 0.251, 0.2251, 0.7429]\n",
    "- AdaBoostClassifier [0.1858, 0.2619, 0.2174, 0.7481]"
   ]
  },
  {
   "cell_type": "markdown",
   "metadata": {},
   "source": [
    "### Secure_x Score on classifying attribute 'class'\n",
    "- KNeighborsClassifier [0.2394, 0.1456, 0.1811, 0.6736]\n",
    "- DecisionTreeClassifier [0.2454, 0.0865, 0.1279, 0.7076]\n",
    "- RandomForestClassifier [0.2487, 0.0662, 0.1046, 0.719]\n",
    "- AdaBoostClassifier [0.0, 0.0, 0.0, 0.7522]"
   ]
  },
  {
   "cell_type": "markdown",
   "metadata": {},
   "source": [
    "### Secure_x Score on classifying attribute 'workclass'\n",
    "- KNeighborsClassifier [0.1429, 0.1437, 0.1433, 0.6375]\n",
    "- DecisionTreeClassifier [0.1425, 0.1417, 0.1421, 0.6675]\n",
    "- RandomForestClassifier [0.1416, 0.1371, 0.1393, 0.7015]\n",
    "- AdaBoostClassifier [0.1428, 0.1052, 0.1212, 0.7364]"
   ]
  },
  {
   "cell_type": "code",
   "execution_count": null,
   "metadata": {},
   "outputs": [],
   "source": [
    "StratifiedKFold()"
   ]
  },
  {
   "cell_type": "code",
   "execution_count": null,
   "metadata": {},
   "outputs": [],
   "source": []
  },
  {
   "cell_type": "code",
   "execution_count": null,
   "metadata": {},
   "outputs": [],
   "source": []
  }
 ],
 "metadata": {
  "kernelspec": {
   "display_name": "Python 3",
   "language": "python",
   "name": "python3"
  },
  "language_info": {
   "codemirror_mode": {
    "name": "ipython",
    "version": 3
   },
   "file_extension": ".py",
   "mimetype": "text/x-python",
   "name": "python",
   "nbconvert_exporter": "python",
   "pygments_lexer": "ipython3",
   "version": "3.8.5"
  }
 },
 "nbformat": 4,
 "nbformat_minor": 4
}
