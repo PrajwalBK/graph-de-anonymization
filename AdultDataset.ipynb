{
 "cells": [
  {
   "cell_type": "code",
   "execution_count": 120,
   "metadata": {},
   "outputs": [],
   "source": [
    "import pandas as pd\n",
    "from sklearn.preprocessing import LabelEncoder\n",
    "import numpy as np\n",
    "import torch\n",
    "from sklearn.model_selection import KFold, StratifiedKFold\n",
    "import math\n",
    "import seaborn as sns\n",
    "import matplotlib.pyplot as plt\n",
    "plt.rcParams[\"figure.figsize\"] = (16, 9)"
   ]
  },
  {
   "cell_type": "code",
   "execution_count": 3,
   "metadata": {},
   "outputs": [],
   "source": [
    "from sklearn.metrics import accuracy_score, log_loss\n",
    "from sklearn.neighbors import KNeighborsClassifier\n",
    "from sklearn.svm import SVC, LinearSVC, NuSVC\n",
    "from sklearn.tree import DecisionTreeClassifier\n",
    "from sklearn.ensemble import RandomForestClassifier, AdaBoostClassifier, GradientBoostingClassifier\n",
    "from sklearn.naive_bayes import GaussianNB\n",
    "from sklearn.discriminant_analysis import LinearDiscriminantAnalysis\n",
    "from sklearn.discriminant_analysis import QuadraticDiscriminantAnalysis\n",
    "from sklearn.linear_model import LogisticRegression\n",
    "import pandas as pd\n",
    "from utils import ConfusionMatrix, Prf1a\n",
    "classifiers = [\n",
    "#     KNeighborsClassifier(3),\n",
    "    DecisionTreeClassifier(),\n",
    "    RandomForestClassifier(n_jobs=4),\n",
    "    AdaBoostClassifier()\n",
    "]\n"
   ]
  },
  {
   "cell_type": "code",
   "execution_count": 4,
   "metadata": {},
   "outputs": [],
   "source": [
    "file = 'adult/adult.csv'\n",
    "kf = KFold(n_splits=10, shuffle=True)"
   ]
  },
  {
   "cell_type": "code",
   "execution_count": 151,
   "metadata": {},
   "outputs": [],
   "source": [
    "def classify(clf, X_train, Y_train, X_test, Y_test, num_class):\n",
    "    clf.fit(X_train, Y_train)\n",
    "    train_predictions = clf.predict(X_test)\n",
    "    if num_class==2:\n",
    "        sc = Prf1a()\n",
    "    else:\n",
    "        sc = ConfusionMatrix(num_class)\n",
    "    sc.add(torch.FloatTensor(train_predictions), Y_test)\n",
    "    train_predictions = clf.predict_proba(X_test)\n",
    "    return sc"
   ]
  },
  {
   "cell_type": "code",
   "execution_count": null,
   "metadata": {},
   "outputs": [],
   "source": []
  },
  {
   "cell_type": "code",
   "execution_count": 152,
   "metadata": {},
   "outputs": [
    {
     "data": {
      "text/plain": [
       "(45222, 15)"
      ]
     },
     "execution_count": 152,
     "metadata": {},
     "output_type": "execute_result"
    }
   ],
   "source": [
    "df = pd.read_csv(file, header=0)\n",
    "df = df.dropna()\n",
    "df.shape"
   ]
  },
  {
   "cell_type": "code",
   "execution_count": 153,
   "metadata": {},
   "outputs": [
    {
     "data": {
      "text/plain": [
       "(array(['<=50K', '>50K'], dtype=object), array([34014, 11208]))"
      ]
     },
     "execution_count": 153,
     "metadata": {},
     "output_type": "execute_result"
    }
   ],
   "source": [
    "np.unique(df['class'], return_counts=True)"
   ]
  },
  {
   "cell_type": "code",
   "execution_count": 154,
   "metadata": {},
   "outputs": [],
   "source": [
    "df['class']=df['class'].map({'<=50K': 0, '>50K': 1}).astype(int)"
   ]
  },
  {
   "cell_type": "code",
   "execution_count": 155,
   "metadata": {},
   "outputs": [
    {
     "name": "stdout",
     "output_type": "stream",
     "text": [
      "age :  5\n",
      "workclass :  7\n",
      "fnlwgt :  26741\n",
      "education :  16\n",
      "education-num :  16\n",
      "marital-status :  7\n",
      "occupation :  14\n",
      "relationship :  6\n",
      "race :  5\n",
      "sex :  2\n",
      "capitalgain :  5\n",
      "capitalloss :  5\n",
      "hoursperweek :  5\n",
      "native-country :  41\n",
      "class :  2\n"
     ]
    }
   ],
   "source": [
    "for c in df.columns:\n",
    "    print(c, ': ', len(df[c].unique()))"
   ]
  },
  {
   "cell_type": "markdown",
   "metadata": {},
   "source": [
    "### Delete redundant and noisy features"
   ]
  },
  {
   "cell_type": "code",
   "execution_count": 156,
   "metadata": {},
   "outputs": [],
   "source": [
    "del df[\"relationship\"]\n",
    "del df['fnlwgt']\n",
    "del df['education-num']"
   ]
  },
  {
   "cell_type": "markdown",
   "metadata": {},
   "source": [
    "### Feature engineering"
   ]
  },
  {
   "cell_type": "code",
   "execution_count": 157,
   "metadata": {},
   "outputs": [
    {
     "name": "stdout",
     "output_type": "stream",
     "text": [
      "Before:  ['State-gov' 'Self-emp-not-inc' 'Private' 'Federal-gov' 'Local-gov'\n",
      " 'Self-emp-inc' 'Without-pay']\n",
      "After:  ['Gov' 'Self-emp' 'Private' 'Without-pay']\n"
     ]
    }
   ],
   "source": [
    "print('Before: ', df.workclass.unique())\n",
    "df.workclass = df.workclass.replace({'Self-emp-not-inc': 'Self-emp',\n",
    "                                    'Self-emp-inc': 'Self-emp',\n",
    "                                    'Local-gov': 'Gov',\n",
    "                                    'Federal-gov': 'Gov',\n",
    "                                    'State-gov': 'Gov'})\n",
    "print('After: ', df.workclass.unique())\n",
    "le = LabelEncoder()\n",
    "df['workclass'] = le.fit_transform(df['workclass'])"
   ]
  },
  {
   "cell_type": "code",
   "execution_count": 158,
   "metadata": {},
   "outputs": [
    {
     "name": "stdout",
     "output_type": "stream",
     "text": [
      "Before:  ['Bachelors' 'HS-grad' '11th' 'Masters' '9th' 'Some-college' 'Assoc-acdm'\n",
      " '7th-8th' 'Doctorate' 'Assoc-voc' 'Prof-school' '5th-6th' '10th'\n",
      " 'Preschool' '12th' '1st-4th']\n",
      "After:  ['Bachelors' 'HS-grad' 'No-school' 'Masters' 'College' 'Doctorate'\n",
      " 'Prof-school']\n"
     ]
    }
   ],
   "source": [
    "print('Before: ', df.education.unique())\n",
    "df.education = df.education.replace({'Preschool': 'No-school',\n",
    "                                        '1st-4th': 'No-school',\n",
    "                                        '5th-6th': 'No-school',\n",
    "                                        '7th-8th': 'No-school',\n",
    "                                        '9th': 'No-school',\n",
    "                                        '10th': 'No-school',\n",
    "                                        '11th': 'No-school',\n",
    "                                        '12th': 'No-school',\n",
    "                                        'Some-college': 'College',\n",
    "                                        'Assoc-voc': 'College',\n",
    "                                        'Assoc-acdm': 'College'})\n",
    "print('After: ', df.education.unique())"
   ]
  },
  {
   "cell_type": "code",
   "execution_count": 159,
   "metadata": {},
   "outputs": [
    {
     "name": "stdout",
     "output_type": "stream",
     "text": [
      "Before:  ['Never-married' 'Married-civ-spouse' 'Divorced' 'Married-spouse-absent'\n",
      " 'Separated' 'Married-AF-spouse' 'Widowed']\n",
      "After:  ['Not-married' 'Married' 'Separated' 'Widowed']\n"
     ]
    }
   ],
   "source": [
    "print('Before: ', df['marital-status'].unique())\n",
    "df['marital-status'].replace(['Married-civ-spouse'], 'Married', inplace=True)\n",
    "df['marital-status'].replace('Never-married', 'Not-married', inplace=True)\n",
    "df['marital-status'].replace(['Divorced'], 'Separated', inplace=True)\n",
    "df['marital-status'].replace(['Separated'], 'Separated', inplace=True)\n",
    "df['marital-status'].replace(['Married-spouse-absent'], 'Not-married', inplace=True)\n",
    "df['marital-status'].replace(['Married-AF-spouse'], 'Married', inplace=True)\n",
    "print('After: ', df['marital-status'].unique())"
   ]
  },
  {
   "cell_type": "code",
   "execution_count": 160,
   "metadata": {},
   "outputs": [
    {
     "name": "stdout",
     "output_type": "stream",
     "text": [
      "Before:  ['United-States' 'Cuba' 'Jamaica' 'India' 'Mexico' 'Puerto-Rico'\n",
      " 'Honduras' 'England' 'Canada' 'Germany' 'Iran' 'Philippines' 'Poland'\n",
      " 'Columbia' 'Cambodia' 'Thailand' 'Ecuador' 'Laos' 'Taiwan' 'Haiti'\n",
      " 'Portugal' 'Dominican-Republic' 'El-Salvador' 'France' 'Guatemala'\n",
      " 'Italy' 'China' 'South' 'Japan' 'Yugoslavia' 'Peru'\n",
      " 'Outlying-US(Guam-USVI-etc)' 'Scotland' 'Trinadad&Tobago' 'Greece'\n",
      " 'Nicaragua' 'Vietnam' 'Hong' 'Ireland' 'Hungary' 'Holand-Netherlands']\n",
      "After:  ['N-America' 'MS-America' 'Asia' 'Europe' 'South']\n"
     ]
    }
   ],
   "source": [
    "print('Before: ', df['native-country'].unique())\n",
    "df['native-country'].replace(['United-States'], 'N-America', inplace=True)\n",
    "df['native-country'].replace(['Mexico'], 'N-America', inplace=True)\n",
    "df['native-country'].replace(['Philippines'], 'Asia', inplace=True)\n",
    "df['native-country'].replace(['Germany'], 'Europe', inplace=True)\n",
    "df['native-country'].replace(['Puerto-Rico'], 'N-America', inplace=True)\n",
    "df['native-country'].replace(['Canada'], 'N-America', inplace=True)\n",
    "df['native-country'].replace(['India'], 'Asia', inplace=True)\n",
    "df['native-country'].replace(['El-Salvador'], 'MS-America', inplace=True)\n",
    "df['native-country'].replace(['Cuba'], 'MS-America', inplace=True)\n",
    "df['native-country'].replace(['England'], 'Europe', inplace=True)\n",
    "df['native-country'].replace(['Jamaica'], 'MS-America', inplace=True)\n",
    "df['native-country'].replace(['Italy'], 'Europe', inplace=True)\n",
    "\n",
    "df['native-country'].replace(['China'], 'Asia', inplace=True)\n",
    "df['native-country'].replace(['Dominican-Republic'], 'MS-America', inplace=True)\n",
    "df['native-country'].replace(['Vietnam'], 'Asia', inplace=True)\n",
    "df['native-country'].replace(['Guatemala'], 'MS-America', inplace=True)\n",
    "df['native-country'].replace(['Japan'], 'Asia', inplace=True)\n",
    "df['native-country'].replace(['Columbia'], 'MS-America', inplace=True)\n",
    "df['native-country'].replace(['Poland'], 'Europe', inplace=True)\n",
    "df['native-country'].replace(['Taiwan'], 'Asia', inplace=True)\n",
    "df['native-country'].replace(['Haiti'], 'MS-America', inplace=True)\n",
    "df['native-country'].replace(['Iran'], 'Asia', inplace=True)\n",
    "df['native-country'].replace(['Portugal'], 'Europe', inplace=True)\n",
    "df['native-country'].replace(['Nicaragua'], 'MS-America', inplace=True)\n",
    "\n",
    "df['native-country'].replace(['Peru'], 'MS-America', inplace=True)\n",
    "df['native-country'].replace(['Greece'], 'Europe', inplace=True)\n",
    "df['native-country'].replace(['Ecuador'], 'MS-America', inplace=True)\n",
    "df['native-country'].replace(['France'], 'Europe', inplace=True)\n",
    "df['native-country'].replace(['Ireland'], 'Europe', inplace=True)\n",
    "df['native-country'].replace(['Hong'], 'Asia', inplace=True)\n",
    "df['native-country'].replace(['Trinadad&Tobago'], 'MS-America', inplace=True)\n",
    "df['native-country'].replace(['Cambodia'], 'Asia', inplace=True)\n",
    "df['native-country'].replace(['Laos'], 'Asia', inplace=True)\n",
    "df['native-country'].replace(['Thailand'], 'Asia', inplace=True)\n",
    "df['native-country'].replace(['Yugoslavia'], 'Europe', inplace=True)\n",
    "df['native-country'].replace(['Outlying-US(Guam-USVI-etc)'], 'N-America', inplace=True)\n",
    "\n",
    "df['native-country'].replace(['Hungary'], 'Europe', inplace=True)\n",
    "df['native-country'].replace(['Honduras'], 'MS-America', inplace=True)\n",
    "df['native-country'].replace(['Scotland'], 'Europe', inplace=True)\n",
    "df['native-country'].replace(['Holand-Netherlands'], 'Europe', inplace=True)\n",
    "print('After: ', df['native-country'].unique())"
   ]
  },
  {
   "cell_type": "code",
   "execution_count": 161,
   "metadata": {},
   "outputs": [],
   "source": [
    "# for c in df.columns:\n",
    "#     print(f'{c}: {df[c].unique()}')\n",
    "#     print(df[c].value_counts())\n",
    "#     print('------------------------------')"
   ]
  },
  {
   "cell_type": "code",
   "execution_count": 162,
   "metadata": {},
   "outputs": [],
   "source": [
    "obj_cols = set(df.select_dtypes(['object']).columns)\n",
    "df_obj = df[obj_cols]\n",
    "df_obj = pd.get_dummies(df_obj)"
   ]
  },
  {
   "cell_type": "code",
   "execution_count": 163,
   "metadata": {},
   "outputs": [],
   "source": [
    "df.drop(obj_cols, axis=1, inplace=True)"
   ]
  },
  {
   "cell_type": "code",
   "execution_count": 164,
   "metadata": {},
   "outputs": [],
   "source": [
    "df = df.join(df_obj)"
   ]
  },
  {
   "cell_type": "code",
   "execution_count": 165,
   "metadata": {},
   "outputs": [],
   "source": [
    "x_col = set(df.columns)-{'workclass', 'class'}\n",
    "df_x = df[x_col]\n",
    "y_class = df['class'].values\n",
    "y_workclass = df['workclass'].values"
   ]
  },
  {
   "cell_type": "markdown",
   "metadata": {},
   "source": [
    "### Remove Label correlation to make prediction of attribute 'class' secure"
   ]
  },
  {
   "cell_type": "code",
   "execution_count": 166,
   "metadata": {},
   "outputs": [
    {
     "name": "stdout",
     "output_type": "stream",
     "text": [
      "34014 11208\n"
     ]
    }
   ],
   "source": [
    "scale = 0\n",
    "c0, c1 = df['class'].value_counts()\n",
    "print(c0, c1)"
   ]
  },
  {
   "cell_type": "code",
   "execution_count": 167,
   "metadata": {},
   "outputs": [],
   "source": [
    "def add_noise(df, eps=1, del_f=2):\n",
    "    df_secure = df.copy()\n",
    "    for i in df_secure.index:\n",
    "        noise = np.random.laplace(scale=del_f/eps, size=df_secure.shape[1])\n",
    "        df_secure.loc[i] += noise\n",
    "    return df_secure"
   ]
  },
  {
   "cell_type": "code",
   "execution_count": null,
   "metadata": {},
   "outputs": [],
   "source": []
  },
  {
   "cell_type": "code",
   "execution_count": 168,
   "metadata": {},
   "outputs": [],
   "source": [
    "import tqdm"
   ]
  },
  {
   "cell_type": "markdown",
   "metadata": {},
   "source": [
    "# Classification"
   ]
  },
  {
   "cell_type": "code",
   "execution_count": 169,
   "metadata": {},
   "outputs": [],
   "source": [
    "def run(df, num_class, mode='', eps=None):\n",
    "    if eps and eps!='NA':\n",
    "        df = add_noise(df, eps=eps)\n",
    "    X = torch.Tensor(df.values)\n",
    "    Y = torch.Tensor(y_class if num_class==2 else y_workclass)\n",
    "    scores = []\n",
    "    for clf in tqdm.tqdm(classifiers, desc='\\tClassifier'):\n",
    "        if num_class==2:\n",
    "            sc = Prf1a()\n",
    "        else:\n",
    "             sc = ConfusionMatrix(num_class)\n",
    "        name = clf.__class__.__name__\n",
    "        for sp in kf.split(X):\n",
    "            x_train, y_train = X[sp[0]], Y[sp[0]]\n",
    "            x_test, y_test = X[sp[1]], Y[sp[1]]\n",
    "            _sc = classify(clf, x_train, y_train, x_test, y_test, num_class)\n",
    "            sc.accumulate(_sc)\n",
    "        scores.append([eps, mode, name] + [round(i, 4) for i in sc.prfa()])\n",
    "    return scores"
   ]
  },
  {
   "cell_type": "code",
   "execution_count": 185,
   "metadata": {
    "scrolled": false
   },
   "outputs": [
    {
     "name": "stderr",
     "output_type": "stream",
     "text": [
      "Noise amount:   0%|          | 0/8 [00:00<?, ?it/s]\n",
      "\tClassifier:   0%|          | 0/3 [00:00<?, ?it/s]\u001b[A\n",
      "\tClassifier:  33%|███▎      | 1/3 [00:01<00:02,  1.28s/it]\u001b[A\n",
      "\tClassifier:  67%|██████▋   | 2/3 [00:09<00:03,  3.29s/it]\u001b[A\n",
      "\tClassifier: 100%|██████████| 3/3 [00:21<00:00,  7.04s/it]\u001b[A\n",
      "\n",
      "\tClassifier:   0%|          | 0/3 [00:00<?, ?it/s]\u001b[A\n",
      "\tClassifier:  33%|███▎      | 1/3 [00:01<00:02,  1.34s/it]\u001b[A\n",
      "\tClassifier:  67%|██████▋   | 2/3 [00:12<00:04,  4.18s/it]\u001b[A\n",
      "\tClassifier: 100%|██████████| 3/3 [00:24<00:00,  8.23s/it]\u001b[A\n",
      "Noise amount:  12%|█▎        | 1/8 [00:45<05:20, 45.80s/it]\n",
      "\tClassifier:   0%|          | 0/3 [00:00<?, ?it/s]\u001b[A\n",
      "\tClassifier:  33%|███▎      | 1/3 [00:40<01:20, 40.34s/it]\u001b[A\n",
      "\tClassifier:  67%|██████▋   | 2/3 [03:15<01:14, 74.64s/it]\u001b[A\n",
      "\tClassifier: 100%|██████████| 3/3 [05:02<00:00, 100.72s/it][A\n",
      "\n",
      "\tClassifier:   0%|          | 0/3 [00:00<?, ?it/s]\u001b[A\n",
      "\tClassifier:  33%|███▎      | 1/3 [00:51<01:43, 51.57s/it]\u001b[A\n",
      "\tClassifier:  67%|██████▋   | 2/3 [04:04<01:33, 94.00s/it]\u001b[A\n",
      "\tClassifier: 100%|██████████| 3/3 [05:52<00:00, 117.52s/it][A\n",
      "Noise amount:  25%|██▌       | 2/8 [12:10<23:45, 237.52s/it]\n",
      "\tClassifier:   0%|          | 0/3 [00:00<?, ?it/s]\u001b[A\n",
      "\tClassifier:  33%|███▎      | 1/3 [00:28<00:56, 28.50s/it]\u001b[A\n",
      "\tClassifier:  67%|██████▋   | 2/3 [02:19<00:53, 53.40s/it]\u001b[A\n",
      "\tClassifier: 100%|██████████| 3/3 [04:11<00:00, 83.79s/it]\u001b[A\n",
      "\n",
      "\tClassifier:   0%|          | 0/3 [00:00<?, ?it/s]\u001b[A\n",
      "\tClassifier:  33%|███▎      | 1/3 [00:47<01:35, 47.77s/it]\u001b[A\n",
      "\tClassifier:  67%|██████▋   | 2/3 [03:43<01:26, 86.21s/it]\u001b[A\n",
      "\tClassifier: 100%|██████████| 3/3 [05:20<00:00, 106.97s/it][A\n",
      "Noise amount:  38%|███▊      | 3/8 [22:14<28:57, 347.56s/it]\n",
      "\tClassifier:   0%|          | 0/3 [00:00<?, ?it/s]\u001b[A\n",
      "\tClassifier:  33%|███▎      | 1/3 [00:25<00:51, 25.57s/it]\u001b[A\n",
      "\tClassifier:  67%|██████▋   | 2/3 [02:01<00:46, 46.78s/it]\u001b[A\n",
      "\tClassifier: 100%|██████████| 3/3 [03:49<00:00, 76.60s/it]\u001b[A\n",
      "\n",
      "\tClassifier:   0%|          | 0/3 [00:00<?, ?it/s]\u001b[A\n",
      "\tClassifier:  33%|███▎      | 1/3 [00:38<01:16, 38.27s/it]\u001b[A\n",
      "\tClassifier:  67%|██████▋   | 2/3 [03:00<01:09, 69.54s/it]\u001b[A\n",
      "\tClassifier: 100%|██████████| 3/3 [04:58<00:00, 99.60s/it]\u001b[A\n",
      "Noise amount:  50%|█████     | 4/8 [31:33<27:23, 410.88s/it]\n",
      "\tClassifier:   0%|          | 0/3 [00:00<?, ?it/s]\u001b[A\n",
      "\tClassifier:  33%|███▎      | 1/3 [00:26<00:53, 26.91s/it]\u001b[A\n",
      "\tClassifier:  67%|██████▋   | 2/3 [02:18<00:52, 52.17s/it]\u001b[A\n",
      "\tClassifier: 100%|██████████| 3/3 [04:09<00:00, 83.33s/it]\u001b[A\n",
      "\n",
      "\tClassifier:   0%|          | 0/3 [00:00<?, ?it/s]\u001b[A\n",
      "\tClassifier:  33%|███▎      | 1/3 [00:36<01:13, 36.83s/it]\u001b[A\n",
      "\tClassifier:  67%|██████▋   | 2/3 [02:52<01:06, 66.51s/it]\u001b[A\n",
      "\tClassifier: 100%|██████████| 3/3 [04:56<00:00, 98.76s/it]\u001b[A\n",
      "Noise amount:  62%|██████▎   | 5/8 [41:08<23:00, 460.03s/it]\n",
      "\tClassifier:   0%|          | 0/3 [00:00<?, ?it/s]\u001b[A\n",
      "\tClassifier:  33%|███▎      | 1/3 [00:38<01:16, 38.08s/it]\u001b[A\n",
      "\tClassifier:  67%|██████▋   | 2/3 [02:27<00:59, 59.52s/it]\u001b[A\n",
      "\tClassifier: 100%|██████████| 3/3 [04:30<00:00, 90.10s/it]\u001b[A\n",
      "\n",
      "\tClassifier:   0%|          | 0/3 [00:00<?, ?it/s]\u001b[A\n",
      "\tClassifier:  33%|███▎      | 1/3 [00:37<01:14, 37.03s/it]\u001b[A\n",
      "\tClassifier:  67%|██████▋   | 2/3 [02:47<01:04, 64.94s/it]\u001b[A\n",
      "\tClassifier: 100%|██████████| 3/3 [04:53<00:00, 97.86s/it]\u001b[A\n",
      "Noise amount:  75%|███████▌  | 6/8 [51:08<16:44, 502.10s/it]\n",
      "\tClassifier:   0%|          | 0/3 [00:00<?, ?it/s]\u001b[A\n",
      "\tClassifier:  33%|███▎      | 1/3 [00:37<01:15, 37.99s/it]\u001b[A\n",
      "\tClassifier:  67%|██████▋   | 2/3 [02:37<01:02, 62.49s/it]\u001b[A\n",
      "\tClassifier: 100%|██████████| 3/3 [04:45<00:00, 95.26s/it]\u001b[A\n",
      "\n",
      "\tClassifier:   0%|          | 0/3 [00:00<?, ?it/s]\u001b[A\n",
      "\tClassifier:  33%|███▎      | 1/3 [00:41<01:23, 41.63s/it]\u001b[A\n",
      "\tClassifier:  67%|██████▋   | 2/3 [02:58<01:10, 70.32s/it]\u001b[A\n",
      "\tClassifier: 100%|██████████| 3/3 [04:50<00:00, 96.78s/it]\u001b[A\n",
      "Noise amount:  88%|████████▊ | 7/8 [1:01:25<08:56, 536.69s/it]\n",
      "\tClassifier:   0%|          | 0/3 [00:00<?, ?it/s]\u001b[A\n",
      "\tClassifier:  33%|███▎      | 1/3 [00:32<01:05, 32.67s/it]\u001b[A\n",
      "\tClassifier:  67%|██████▋   | 2/3 [02:26<00:57, 57.11s/it]\u001b[A\n",
      "\tClassifier: 100%|██████████| 3/3 [04:08<00:00, 82.93s/it]\u001b[A\n",
      "\n",
      "\tClassifier:   0%|          | 0/3 [00:00<?, ?it/s]\u001b[A\n",
      "\tClassifier:  33%|███▎      | 1/3 [00:38<01:16, 38.31s/it]\u001b[A\n",
      "\tClassifier:  67%|██████▋   | 2/3 [02:51<01:06, 66.90s/it]\u001b[A\n",
      "\tClassifier: 100%|██████████| 3/3 [04:41<00:00, 93.92s/it]\u001b[A\n",
      "Noise amount: 100%|██████████| 8/8 [1:10:45<00:00, 530.72s/it]\n"
     ]
    }
   ],
   "source": [
    "scores = [['Epsilon, Utility_Privacy', 'Classifier', 'Precision', 'Recall', 'F1', 'Accuracy']]\n",
    "for eps in tqdm.tqdm(['NA', 0.1, 0.5, 1, 2, 4, 7, 10], desc='Noise amount'):\n",
    "    for attr in ['class', 'workclass']:\n",
    "        num_cls = 2 if attr=='class' else 4\n",
    "        scores += run(df_x, num_cls, attr, eps=eps)"
   ]
  },
  {
   "cell_type": "code",
   "execution_count": 191,
   "metadata": {},
   "outputs": [],
   "source": [
    "scores[0] = ['Epsilon', 'Utility_Privacy',\n",
    "  'Classifier',\n",
    "  'Precision',\n",
    "  'Recall',\n",
    "  'F1', 'Accuracy']"
   ]
  },
  {
   "cell_type": "code",
   "execution_count": 192,
   "metadata": {},
   "outputs": [],
   "source": [
    "sdf = pd.DataFrame(columns=scores[0], data=scores[1:])"
   ]
  },
  {
   "cell_type": "code",
   "execution_count": 193,
   "metadata": {},
   "outputs": [
    {
     "data": {
      "image/png": "[encoded data removed]",
      "text/plain": [
       "<Figure size 1152x648 with 1 Axes>"
      ]
     },
     "metadata": {
      "needs_background": "light"
     },
     "output_type": "display_data"
    }
   ],
   "source": [
    "sns.boxplot(x='Utility_Privacy', y='Accuracy', data=sdf, hue='Epsilon')\n",
    "plt.title('Accuracy')\n",
    "plt.savefig('Accuracy.png',bbox_inches = 'tight',\n",
    "    pad_inches = 0)"
   ]
  },
  {
   "cell_type": "code",
   "execution_count": 194,
   "metadata": {},
   "outputs": [
    {
     "data": {
      "image/png": "[encoded data removed]",
      "text/plain": [
       "<Figure size 1152x648 with 1 Axes>"
      ]
     },
     "metadata": {
      "needs_background": "light"
     },
     "output_type": "display_data"
    }
   ],
   "source": [
    "sns.boxplot(x='Utility_Privacy', y='Recall', data=sdf, hue='Epsilon')\n",
    "plt.title('Recall')\n",
    "plt.savefig('Sensitivity.png', bbox_inches = 'tight',\n",
    "    pad_inches = 0)"
   ]
  },
  {
   "cell_type": "code",
   "execution_count": null,
   "metadata": {},
   "outputs": [],
   "source": []
  },
  {
   "cell_type": "markdown",
   "metadata": {},
   "source": [
    "### Base scores on classifying attribute 'class'\n",
    "- KNeighborsClassifier [0.6565, 0.5988, 0.6263, 0.8229]\n",
    "- DecisionTreeClassifier [0.6994, 0.588, 0.6389, 0.8352]\n",
    "- RandomForestClassifier [0.7061, 0.6085, 0.6537, 0.8402]\n",
    "- AdaBoostClassifier [0.7399, 0.6057, 0.6661, 0.8495]"
   ]
  },
  {
   "cell_type": "markdown",
   "metadata": {},
   "source": [
    "### Base scores on classifying attribute 'workclass'\n",
    "- KNeighborsClassifier [0.2038, 0.2221, 0.2125, 0.704]\n",
    "- DecisionTreeClassifier [0.2041, 0.2358, 0.2188, 0.7242]\n",
    "- RandomForestClassifier [0.2041, 0.251, 0.2251, 0.7429]\n",
    "- AdaBoostClassifier [0.1858, 0.2619, 0.2174, 0.7481]"
   ]
  },
  {
   "cell_type": "markdown",
   "metadata": {},
   "source": [
    "### Secure_x Score on classifying attribute 'class'\n",
    "- KNeighborsClassifier [0.2394, 0.1456, 0.1811, 0.6736]\n",
    "- DecisionTreeClassifier [0.2454, 0.0865, 0.1279, 0.7076]\n",
    "- RandomForestClassifier [0.2487, 0.0662, 0.1046, 0.719]\n",
    "- AdaBoostClassifier [0.0, 0.0, 0.0, 0.7522]"
   ]
  },
  {
   "cell_type": "markdown",
   "metadata": {},
   "source": [
    "### Secure_x Score on classifying attribute 'workclass'\n",
    "- KNeighborsClassifier [0.1429, 0.1437, 0.1433, 0.6375]\n",
    "- DecisionTreeClassifier [0.1425, 0.1417, 0.1421, 0.6675]\n",
    "- RandomForestClassifier [0.1416, 0.1371, 0.1393, 0.7015]\n",
    "- AdaBoostClassifier [0.1428, 0.1052, 0.1212, 0.7364]"
   ]
  },
  {
   "cell_type": "code",
   "execution_count": null,
   "metadata": {},
   "outputs": [],
   "source": [
    "StratifiedKFold()"
   ]
  },
  {
   "cell_type": "code",
   "execution_count": null,
   "metadata": {},
   "outputs": [],
   "source": []
  },
  {
   "cell_type": "code",
   "execution_count": null,
   "metadata": {},
   "outputs": [],
   "source": []
  }
 ],
 "metadata": {
  "kernelspec": {
   "display_name": "Python 3",
   "language": "python",
   "name": "python3"
  },
  "language_info": {
   "codemirror_mode": {
    "name": "ipython",
    "version": 3
   },
   "file_extension": ".py",
   "mimetype": "text/x-python",
   "name": "python",
   "nbconvert_exporter": "python",
   "pygments_lexer": "ipython3",
   "version": "3.8.5"
  }
 },
 "nbformat": 4,
 "nbformat_minor": 4
}
